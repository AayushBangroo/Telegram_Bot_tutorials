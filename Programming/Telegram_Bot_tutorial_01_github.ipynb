{
 "cells": [
  {
   "cell_type": "markdown",
   "metadata": {},
   "source": [
    "# Telegram Bot\n",
    "* [Video 1](#Video-1)"
   ]
  },
  {
   "cell_type": "markdown",
   "metadata": {},
   "source": [
    "## Video 1"
   ]
  },
  {
   "cell_type": "markdown",
   "metadata": {},
   "source": [
    "* Introduction - \n",
    "    [Wiki](https://en.wikipedia.org/wiki/Telegram_(messaging_service)), [Introduction to telegram bots](https://core.telegram.org/bots), [Telegram Bot API](https://core.telegram.org/bots/api)\n",
    "    - Russian App\n",
    "    - WhatsApp's competitor\n",
    "    - mostly used in Enterprises\n",
    "    - Prominent feature: Bot\n",
    "    - unlike whatsapp, data stored in server.\n",
    "    - optional end-to-end encrypted \"secret\" chats.\n",
    "    \n",
    "    \n",
    "* Create a new Bot from **Bot Father** in **Telegram** app (mobile or desktop).\n",
    "\n",
    "\n",
    "* Check the bot connection using \n",
    "```\n",
    "https://api.telegram.org/bot<token>/METHOD_NAME\n",
    "```\n",
    "\n",
    "    For details, refer [here](https://core.telegram.org/bots/api#authorizing-your-bot)\n",
    "    ![]()\n",
    "\n",
    "    [Connect the bot](https://api.telegram.org/bot<yourtoken>/getMe)\n",
    "\n",
    "    So, it is working!!..\n",
    "\n",
    "\n",
    "* Install **Python-telegram-bot** using ```pip install python-telegram-bot```"
   ]
  },
  {
   "cell_type": "markdown",
   "metadata": {},
   "source": [
    "##### NOTE: while pasting the token key, make sure to hide it."
   ]
  },
  {
   "cell_type": "code",
   "execution_count": 8,
   "metadata": {
    "collapsed": true
   },
   "outputs": [],
   "source": [
    "# Bot token received from @BotFather\n",
    "TOKEN = 'your-token'"
   ]
  },
  {
   "cell_type": "code",
   "execution_count": 9,
   "metadata": {
    "collapsed": true
   },
   "outputs": [],
   "source": [
    "import telegram"
   ]
  },
  {
   "cell_type": "markdown",
   "metadata": {},
   "source": [
    "### 1. Connecting to the Bot"
   ]
  },
  {
   "cell_type": "code",
   "execution_count": 20,
   "metadata": {},
   "outputs": [
    {
     "name": "stdout",
     "output_type": "stream",
     "text": [
      "{'id': 514487748, 'first_name': 'trial1', 'is_bot': True, 'username': 'trial3700_bot'}\n"
     ]
    }
   ],
   "source": [
    "# initialising the bot\n",
    "bot = telegram.Bot(TOKEN)\n",
    "print(bot.get_me())"
   ]
  },
  {
   "cell_type": "markdown",
   "metadata": {},
   "source": [
    "### 2. GET text from Bot\n",
    "![]()"
   ]
  },
  {
   "cell_type": "code",
   "execution_count": 22,
   "metadata": {
    "scrolled": true
   },
   "outputs": [
    {
     "name": "stdout",
     "output_type": "stream",
     "text": [
      "['hello, trial bot', 'i am abhijit, your owner', None, \"what's ur duty?\"]\n",
      "\n",
      "Message length is 4\n"
     ]
    }
   ],
   "source": [
    "# connecting to the bot\n",
    "bot = telegram.Bot(TOKEN)\n",
    "\n",
    "updates = bot.get_updates()  # this line needs to be run everytime u fetch/chat any content\n",
    "# prints all the text sent to the bot\n",
    "print([u.message.text for u in updates])\n",
    "print(\"\\nMessage length is\", len(updates))"
   ]
  },
  {
   "cell_type": "markdown",
   "metadata": {},
   "source": [
    "### 3. GET photos from Bot\n",
    "![]()"
   ]
  },
  {
   "cell_type": "code",
   "execution_count": 23,
   "metadata": {
    "scrolled": false
   },
   "outputs": [
    {
     "name": "stdout",
     "output_type": "stream",
     "text": [
      "[[], [], [<telegram.files.photosize.PhotoSize object at 0x000001F1AC992898>, <telegram.files.photosize.PhotoSize object at 0x000001F1AC9928D0>, <telegram.files.photosize.PhotoSize object at 0x000001F1AC992908>], []]\n",
      "\n",
      "Message length is 4\n"
     ]
    }
   ],
   "source": [
    "# connecting to the bot\n",
    "bot = telegram.Bot(TOKEN)\n",
    "\n",
    "updates = bot.get_updates()\n",
    "# prints the photos sent to this bot\n",
    "print([u.message.photo for u in updates])\n",
    "print(\"\\nMessage length is\", len(updates))"
   ]
  },
  {
   "cell_type": "markdown",
   "metadata": {},
   "source": [
    "### 4. SEND Bot's reply to a message"
   ]
  },
  {
   "cell_type": "code",
   "execution_count": 24,
   "metadata": {},
   "outputs": [
    {
     "name": "stdout",
     "output_type": "stream",
     "text": [
      "Enter your Bot's reply text: \n",
      "it's dinner time!\n"
     ]
    },
    {
     "data": {
      "text/plain": [
       "<telegram.message.Message at 0x1f1ac980780>"
      ]
     },
     "execution_count": 24,
     "metadata": {},
     "output_type": "execute_result"
    }
   ],
   "source": [
    "# connecting to the bot\n",
    "bot = telegram.Bot(TOKEN)\n",
    "\n",
    "chat_id = bot.get_updates()[-1].message.chat_id\n",
    "#txt = 'Hi, I am your bot!. Welcome to the Crypto world'\n",
    "txt = input(\"Enter your Bot's reply text: \\n\")\n",
    "\n",
    "# send message\n",
    "bot.send_message(chat_id, txt)"
   ]
  },
  {
   "cell_type": "markdown",
   "metadata": {
    "collapsed": true
   },
   "source": [
    "## Video 2"
   ]
  },
  {
   "cell_type": "code",
   "execution_count": null,
   "metadata": {
    "collapsed": true
   },
   "outputs": [],
   "source": []
  }
 ],
 "metadata": {
  "kernelspec": {
   "display_name": "Python 3",
   "language": "python",
   "name": "python3"
  },
  "language_info": {
   "codemirror_mode": {
    "name": "ipython",
    "version": 3
   },
   "file_extension": ".py",
   "mimetype": "text/x-python",
   "name": "python",
   "nbconvert_exporter": "python",
   "pygments_lexer": "ipython3",
   "version": "3.6.3"
  }
 },
 "nbformat": 4,
 "nbformat_minor": 2
}
