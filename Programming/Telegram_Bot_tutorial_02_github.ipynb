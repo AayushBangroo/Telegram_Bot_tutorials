{
 "cells": [
  {
   "cell_type": "markdown",
   "metadata": {},
   "source": [
    "# Telegram Bot"
   ]
  },
  {
   "cell_type": "markdown",
   "metadata": {},
   "source": [
    "## Video 2\n",
    "* [SEND Bot's reply to a message](#4.-SEND-Bot's-reply-to-a-message) (Modified from previous tutorial)\n",
    "    - [Text](#Text)\n",
    "    - [Photo](#Photo)\n",
    "    - [Video](#Video)\n",
    "\n",
    "\n",
    "* [SHOW Bot's Chat action-Typing](#5.-SHOW-Bot's-Chat-action--Typing)\n",
    "* [Bot ASK for sharing location, contact](#6.-Bot-ASK-for-sharing-location,-contact)"
   ]
  },
  {
   "cell_type": "code",
   "execution_count": 2,
   "metadata": {
    "collapsed": true
   },
   "outputs": [],
   "source": [
    "# Bot token received from @BotFather\n",
    "TOKEN = '<yourtoken>'"
   ]
  },
  {
   "cell_type": "code",
   "execution_count": 1,
   "metadata": {
    "collapsed": true
   },
   "outputs": [],
   "source": [
    "import telegram"
   ]
  },
  {
   "cell_type": "code",
   "execution_count": 5,
   "metadata": {},
   "outputs": [
    {
     "name": "stdout",
     "output_type": "stream",
     "text": [
      "{'id': 514487748, 'first_name': 'trial1', 'is_bot': True, 'username': 'trial3700_bot'}\n"
     ]
    }
   ],
   "source": [
    "bot = telegram.Bot(TOKEN)\n",
    "print(bot.get_me())"
   ]
  },
  {
   "cell_type": "markdown",
   "metadata": {},
   "source": [
    "### 4. SEND Bot's reply to a message\n",
    "modified from previous tutorial\n",
    "#### Text"
   ]
  },
  {
   "cell_type": "code",
   "execution_count": 4,
   "metadata": {},
   "outputs": [
    {
     "name": "stdout",
     "output_type": "stream",
     "text": [
      "Enter your Bot's reply text: \n",
      "I am your bot!\n"
     ]
    }
   ],
   "source": [
    "# connecting to the bot\n",
    "bot = telegram.Bot(TOKEN)\n",
    "\n",
    "if bot.get_updates():\n",
    "    chat_id = bot.get_updates()[-1].message.chat_id\n",
    "\n",
    "# Enter text\n",
    "    txt = input(\"Enter your Bot's reply text: \\n\")\n",
    "\n",
    "# send message\n",
    "    bot.send_message(chat_id, txt)\n",
    "    \n",
    "else:\n",
    "    print(\"Empty list. Please, chat with the bot\")"
   ]
  },
  {
   "cell_type": "markdown",
   "metadata": {},
   "source": [
    "#### Photo"
   ]
  },
  {
   "cell_type": "code",
   "execution_count": 5,
   "metadata": {
    "collapsed": true
   },
   "outputs": [],
   "source": [
    "# connecting to the bot\n",
    "bot = telegram.Bot(TOKEN)\n",
    "\n",
    "if bot.get_updates():\n",
    "    chat_id = bot.get_updates()[-1].message.chat_id\n",
    "\n",
    "#Get pic link from Google.'\n",
    "    pic = 'https://bitcoin.org/img/icons/opengraph.png'\n",
    "\n",
    "# send message\n",
    "    bot.send_photo(chat_id, pic)\n",
    "    \n",
    "else:\n",
    "    print(\"Empty list. Please, chat with the bot\")"
   ]
  },
  {
   "cell_type": "markdown",
   "metadata": {},
   "source": [
    "#### Video"
   ]
  },
  {
   "cell_type": "code",
   "execution_count": 6,
   "metadata": {
    "collapsed": true
   },
   "outputs": [],
   "source": [
    "# connecting to the bot\n",
    "bot = telegram.Bot(TOKEN)\n",
    "\n",
    "if bot.get_updates():\n",
    "    chat_id = bot.get_updates()[-1].message.chat_id\n",
    "\n",
    "# Get sample videos of different type from link - \n",
    "# http://techslides.com/sample-webm-ogg-and-mp4-video-files-for-html5\n",
    "    video = 'http://techslides.com/demos/sample-videos/small.mp4'\n",
    "\n",
    "# send message\n",
    "    bot.send_video(chat_id, video)\n",
    "    \n",
    "else:\n",
    "    print(\"Empty list. Please, chat with the bot\")"
   ]
  },
  {
   "cell_type": "markdown",
   "metadata": {},
   "source": [
    "### 5. SHOW Bot's Chat action- Typing"
   ]
  },
  {
   "cell_type": "code",
   "execution_count": 7,
   "metadata": {
    "collapsed": true
   },
   "outputs": [],
   "source": [
    "# connecting to the bot\n",
    "bot = telegram.Bot(TOKEN)\n",
    "\n",
    "if bot.get_updates():\n",
    "    chat_id = bot.get_updates()[-1].message.chat_id\n",
    "\n",
    "\n",
    "# send chat action typing\n",
    "    bot.send_chat_action(chat_id=chat_id, action=telegram.chataction.ChatAction.TYPING)\n",
    "    \n",
    "else:\n",
    "    print(\"Empty list. Please, chat with the bot\")"
   ]
  },
  {
   "cell_type": "markdown",
   "metadata": {},
   "source": [
    "### 6. Bot ASK for sharing location, contact"
   ]
  },
  {
   "cell_type": "code",
   "execution_count": 8,
   "metadata": {
    "collapsed": true
   },
   "outputs": [],
   "source": [
    "# connecting to the bot\n",
    "bot = telegram.Bot(TOKEN)\n",
    "\n",
    "if bot.get_updates():\n",
    "    chat_id = bot.get_updates()[-1].message.chat_id\n",
    "    \n",
    "    location_keyboard = telegram.KeyboardButton(text=\"send_location\", request_location=True)\n",
    "    contact_keyboard = telegram.KeyboardButton(text=\"send_contact\", request_contact=True)\n",
    "    custom_keyboard = [[location_keyboard, contact_keyboard]]\n",
    "    reply_markup = telegram.ReplyKeyboardMarkup(custom_keyboard)\n",
    "\n",
    "    bot.send_message(chat_id=chat_id, text=\"Would you mind sharing your contact and location with me?\", reply_markup=reply_markup)\n",
    "    \n",
    "else:\n",
    "    print(\"Empty list. Please, chat with the bot\")"
   ]
  },
  {
   "cell_type": "code",
   "execution_count": null,
   "metadata": {
    "collapsed": true
   },
   "outputs": [],
   "source": []
  }
 ],
 "metadata": {
  "kernelspec": {
   "display_name": "Python 3",
   "language": "python",
   "name": "python3"
  },
  "language_info": {
   "codemirror_mode": {
    "name": "ipython",
    "version": 3
   },
   "file_extension": ".py",
   "mimetype": "text/x-python",
   "name": "python",
   "nbconvert_exporter": "python",
   "pygments_lexer": "ipython3",
   "version": "3.6.3"
  }
 },
 "nbformat": 4,
 "nbformat_minor": 2
}
